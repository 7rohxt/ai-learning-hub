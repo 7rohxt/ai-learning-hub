{
 "cells": [
  {
   "cell_type": "code",
   "execution_count": 1,
   "id": "f049bbd7",
   "metadata": {},
   "outputs": [],
   "source": [
    "import cv2\n",
    "import numpy as np"
   ]
  },
  {
   "cell_type": "markdown",
   "id": "fcd5b7c7",
   "metadata": {},
   "source": [
    "# Shapes and Text"
   ]
  },
  {
   "cell_type": "code",
   "execution_count": 6,
   "id": "cfcf5f6b",
   "metadata": {},
   "outputs": [
    {
     "name": "stdout",
     "output_type": "stream",
     "text": [
      "[[[0 0 0]\n",
      "  [0 0 0]\n",
      "  [0 0 0]\n",
      "  ...\n",
      "  [0 0 0]\n",
      "  [0 0 0]\n",
      "  [0 0 0]]\n",
      "\n",
      " [[0 0 0]\n",
      "  [0 0 0]\n",
      "  [0 0 0]\n",
      "  ...\n",
      "  [0 0 0]\n",
      "  [0 0 0]\n",
      "  [0 0 0]]\n",
      "\n",
      " [[0 0 0]\n",
      "  [0 0 0]\n",
      "  [0 0 0]\n",
      "  ...\n",
      "  [0 0 0]\n",
      "  [0 0 0]\n",
      "  [0 0 0]]\n",
      "\n",
      " ...\n",
      "\n",
      " [[0 0 0]\n",
      "  [0 0 0]\n",
      "  [0 0 0]\n",
      "  ...\n",
      "  [0 0 0]\n",
      "  [0 0 0]\n",
      "  [0 0 0]]\n",
      "\n",
      " [[0 0 0]\n",
      "  [0 0 0]\n",
      "  [0 0 0]\n",
      "  ...\n",
      "  [0 0 0]\n",
      "  [0 0 0]\n",
      "  [0 0 0]]\n",
      "\n",
      " [[0 0 0]\n",
      "  [0 0 0]\n",
      "  [0 0 0]\n",
      "  ...\n",
      "  [0 0 0]\n",
      "  [0 0 0]\n",
      "  [0 0 0]]]\n"
     ]
    },
    {
     "data": {
      "text/plain": [
       "-1"
      ]
     },
     "execution_count": 6,
     "metadata": {},
     "output_type": "execute_result"
    }
   ],
   "source": [
    "img = np.zeros((512,512,3),np.uint8)\n",
    "print(img)\n",
    "img[10:300,10:430]= 255,0,0 # define the region wher you want it to be blue\n",
    "\n",
    "# for the below mention \n",
    "# 1- for which image\n",
    "# 2- starting and ending points\n",
    "# 3- color\n",
    "# 4- thickness\n",
    "cv2.line(img,(0,0),(img.shape[1],img.shape[0]),(0,255,0),3)  # (0,0),(img.shape[1],img.shape[0]) this is the starting point and the ending point\n",
    "cv2.rectangle(img,(0,0),(250,350),(0,0,255),2) # cv2.FILLED to fill\n",
    "\n",
    "# for circle centre and radius\n",
    "cv2.circle(img,(400,50),30,(255,255,0),5)\n",
    "\n",
    "# img, text, staring point, font, size or scale, colour, thickness\n",
    "cv2.putText(img,\" OPENCV  \",(300,200),cv2.FONT_HERSHEY_COMPLEX,1,(0,150,0),3)\n",
    "\n",
    "\n",
    "cv2.imshow(\"Image\",img)\n",
    "\n",
    "cv2.waitKey(0)"
   ]
  }
 ],
 "metadata": {
  "kernelspec": {
   "display_name": "cvenv",
   "language": "python",
   "name": "python3"
  },
  "language_info": {
   "codemirror_mode": {
    "name": "ipython",
    "version": 3
   },
   "file_extension": ".py",
   "mimetype": "text/x-python",
   "name": "python",
   "nbconvert_exporter": "python",
   "pygments_lexer": "ipython3",
   "version": "3.11.0"
  }
 },
 "nbformat": 4,
 "nbformat_minor": 5
}
