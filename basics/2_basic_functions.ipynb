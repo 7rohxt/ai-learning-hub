{
 "cells": [
  {
   "cell_type": "code",
   "execution_count": null,
   "id": "bc5b7aa1",
   "metadata": {},
   "outputs": [],
   "source": [
    "import cv2\n",
    "import numpy as np"
   ]
  },
  {
   "cell_type": "markdown",
   "id": "07aa7013",
   "metadata": {},
   "source": [
    "# Basic Functions"
   ]
  },
  {
   "cell_type": "code",
   "execution_count": null,
   "id": "e7c23c56",
   "metadata": {},
   "outputs": [
    {
     "data": {
      "text/plain": [
       "-1"
      ]
     },
     "execution_count": 8,
     "metadata": {},
     "output_type": "execute_result"
    }
   ],
   "source": [
    "img = cv2.imread(\"resources/lena.png\")\n",
    "kernel = np.ones((5,5),np.uint8)                               #Creates a 5×5 matrix of ones (i.e., all values are 1) with datatype np.uint8 (unsigned 8-bit integer).\n",
    " \n",
    "\n",
    "imgGray = cv2.cvtColor(img,cv2.COLOR_BGR2GRAY)                 # for grey image\n",
    "\n",
    "imgBlur = cv2.GaussianBlur(imgGray,(17,17),0)                  # 7 pixels x 7 picxels (intensity of blur), 0 is sigma value which auto lets open cv auto calculate the value\n",
    "\n",
    "imgCanny = cv2.Canny(img,150,200)                              # to draw the edges\n",
    "\n",
    "imgDialation = cv2.dilate(imgCanny,kernel,iterations=1)        # to increase thickness (turn black to white if they fall under kernel) \n",
    "                                                               # kernel is set to ones (mostly during dilations or erosions) so thickness is defined by iterations = 1\n",
    "                                                               # kernel means central or essential\n",
    "                                                               # in signal processing kernel also called as filter or mask is a small matrix\n",
    "\n",
    "imgEroded = cv2.erode(imgDialation,kernel,iterations=1)        # thins (Erosion keeps it white only if all the pixels under the kernel are also white.)\n",
    " \n",
    "\n",
    "cv2.imshow(\"Gray Image\",imgGray)\n",
    "cv2.imshow(\"Blur Image\",imgBlur)\n",
    "cv2.imshow(\"Canny Image\",imgCanny)\n",
    "cv2.imshow(\"Dialation Image\",imgDialation)\n",
    "cv2.imshow(\"Eroded Image\",imgEroded)\n",
    "cv2.waitKey(0)"
   ]
  }
 ],
 "metadata": {
  "kernelspec": {
   "display_name": "cvenv",
   "language": "python",
   "name": "python3"
  },
  "language_info": {
   "codemirror_mode": {
    "name": "ipython",
    "version": 3
   },
   "file_extension": ".py",
   "mimetype": "text/x-python",
   "name": "python",
   "nbconvert_exporter": "python",
   "pygments_lexer": "ipython3",
   "version": "3.11.0"
  }
 },
 "nbformat": 4,
 "nbformat_minor": 5
}
