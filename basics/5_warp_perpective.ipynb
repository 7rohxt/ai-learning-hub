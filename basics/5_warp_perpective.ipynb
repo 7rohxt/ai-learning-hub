{
 "cells": [
  {
   "cell_type": "code",
   "execution_count": 1,
   "id": "edbad35b",
   "metadata": {},
   "outputs": [],
   "source": [
    "import cv2\n",
    "import numpy as np"
   ]
  },
  {
   "cell_type": "markdown",
   "id": "bc30b1dd",
   "metadata": {},
   "source": [
    "# Warp Perspective"
   ]
  },
  {
   "cell_type": "code",
   "execution_count": null,
   "id": "a18772b1",
   "metadata": {},
   "outputs": [
    {
     "data": {
      "text/plain": [
       "-1"
      ]
     },
     "execution_count": 5,
     "metadata": {},
     "output_type": "execute_result"
    }
   ],
   "source": [
    "import cv2\n",
    "import numpy as np\n",
    "\n",
    "img = cv2.imread(\"resources/cards.jpg\")\n",
    "\n",
    "width,height = 250,350\n",
    "pts1 = np.float32([[111,219],[287,188],[154,482],[352,440]]) # corner of the card (you can get that using paint app)\n",
    "pts2 = np.float32([[0,0],[width,0],[0,height],[width,height]])\n",
    "\n",
    "matrix = cv2.getPerspectiveTransform(pts1,pts2) # Computes the matrix to warp selected 4 points into a rectangle\n",
    "\n",
    "imgOutput = cv2.warpPerspective(img,matrix,(width,height)) # Uses that matrix to apply the warp and generate a top-down view\n",
    "\n",
    "\n",
    "cv2.imshow(\"Image\",img)\n",
    "cv2.imshow(\"Output\",imgOutput)\n",
    "\n",
    "cv2.waitKey(0)"
   ]
  }
 ],
 "metadata": {
  "kernelspec": {
   "display_name": "cvenv",
   "language": "python",
   "name": "python3"
  },
  "language_info": {
   "codemirror_mode": {
    "name": "ipython",
    "version": 3
   },
   "file_extension": ".py",
   "mimetype": "text/x-python",
   "name": "python",
   "nbconvert_exporter": "python",
   "pygments_lexer": "ipython3",
   "version": "3.11.0"
  }
 },
 "nbformat": 4,
 "nbformat_minor": 5
}
