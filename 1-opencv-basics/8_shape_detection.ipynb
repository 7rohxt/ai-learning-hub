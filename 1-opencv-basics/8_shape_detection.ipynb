{
 "cells": [
  {
   "cell_type": "code",
   "execution_count": 1,
   "id": "728b6c24",
   "metadata": {},
   "outputs": [],
   "source": [
    "import cv2\n",
    "import numpy as np\n",
    "\n",
    "from utils import stackImages"
   ]
  },
  {
   "cell_type": "markdown",
   "id": "f65267f1",
   "metadata": {},
   "source": [
    "# Contour/Shape Detection\n",
    "contours are edges not corners"
   ]
  },
  {
   "cell_type": "code",
   "execution_count": null,
   "id": "41580fc2",
   "metadata": {},
   "outputs": [],
   "source": [
    "def getContours(img):\n",
    "    contours,hierarchy = cv2.findContours(img,cv2.RETR_EXTERNAL,cv2.CHAIN_APPROX_NONE) ## finds object boundaries \n",
    "\n",
    "    # cv2.findContours: Finds boundaries of white shapes in a binary image.\n",
    "    # RETR_EXTERNAL: Retrieves outermost contours only (ignores inner nested ones).\n",
    "    # CHAIN_APPROX_NONE: Keeps all contour points (no compression).\n",
    "    # contours: List of found contours.\n",
    "    # hierarchy: Info about contour relationships (not used here).\n",
    "\n",
    "    for cnt in contours:\n",
    "        area = cv2.contourArea(cnt)   # measures areas for all the contours\n",
    "        print(area)\n",
    "        if area>500:                  # setting threshold to avoid any noise\n",
    "            cv2.drawContours(imgContour, cnt, -1, (255, 0, 0), 3)       #Draws the valid contour on imgContour (not img), in blue color with thickness 3.\n",
    "            peri = cv2.arcLength(cnt,True) # cal perimeter\n",
    "            #print(peri)\n",
    "            approx = cv2.approxPolyDP(cnt,0.02*peri,True)\n",
    "\n",
    "            # Approximates the contour to a simpler shape using Douglas-Peucker algorithm.\n",
    "            # 0.02 * peri: The tolerance; higher = more simplified.\n",
    "            # approx: Contains corner points (like 3 for triangle, 4 for rectangle).\n",
    "            \n",
    "            print(len(approx))\n",
    "            objCor = len(approx)\n",
    "            x, y, w, h = cv2.boundingRect(approx)    #returns a rectangle that tightly fits around the given shape (approx).\n",
    "\n",
    "            if objCor ==3: objectType =\"Tri\"\n",
    "            elif objCor == 4:\n",
    "                aspRatio = w/float(h)\n",
    "                if aspRatio >0.98 and aspRatio <1.03: objectType= \"Square\"  # if contours ratio close to one square\n",
    "                else:objectType=\"Rectangle\"\n",
    "            elif objCor>4: objectType= \"Circles\"\n",
    "            else:objectType=\"None\"\n",
    "\n",
    "\n",
    "\n",
    "            cv2.rectangle(imgContour,(x,y),(x+w,y+h),(0,255,0),2)\n",
    "            cv2.putText(imgContour,objectType,\n",
    "                        (x+(w//2)-10,y+(h//2)-10),cv2.FONT_HERSHEY_COMPLEX,0.7,\n",
    "                        (0,0,0),2)\n",
    "\n"
   ]
  },
  {
   "cell_type": "code",
   "execution_count": null,
   "id": "48c48958",
   "metadata": {},
   "outputs": [
    {
     "name": "stdout",
     "output_type": "stream",
     "text": [
      "3593.5\n",
      "8\n",
      "8619.0\n",
      "4\n",
      "10398.5\n",
      "4\n",
      "10236.0\n",
      "8\n",
      "1612.5\n",
      "3\n",
      "10402.0\n",
      "4\n",
      "6389.0\n",
      "4\n",
      "5629.0\n",
      "3\n",
      "3475.5\n",
      "4\n",
      "2270.5\n",
      "4\n",
      "3552.5\n",
      "8\n",
      "8674.0\n",
      "4\n",
      "2646.0\n",
      "4\n",
      "5690.5\n",
      "3\n",
      "10234.0\n",
      "8\n",
      "5712.0\n",
      "3\n"
     ]
    },
    {
     "data": {
      "text/plain": [
       "-1"
      ]
     },
     "execution_count": 3,
     "metadata": {},
     "output_type": "execute_result"
    }
   ],
   "source": [
    "path = 'resources/shapes.png'\n",
    "img = cv2.imread(path)\n",
    "imgContour = img.copy()\n",
    "\n",
    "imgGray = cv2.cvtColor(img,cv2.COLOR_BGR2GRAY)   # we dont need rgb to find shapes so to simplify grayscale\n",
    "imgBlur = cv2.GaussianBlur(imgGray,(7,7),1)      # smoothen the image to reduce noise in the edges\n",
    "imgCanny = cv2.Canny(imgBlur,50,50)              # converts the image into a binary image which makes it easier for findcontours\n",
    "getContours(imgCanny)\n",
    "\n",
    "imgBlank = np.zeros_like(img)\n",
    "imgStack = stackImages(0.8,([img,imgGray,imgBlur],\n",
    "                            [imgCanny,imgContour,imgBlank]))\n",
    "\n",
    "cv2.imshow(\"Stack\", imgStack)\n",
    "\n",
    "cv2.waitKey(0)"
   ]
  }
 ],
 "metadata": {
  "kernelspec": {
   "display_name": "cvenv",
   "language": "python",
   "name": "python3"
  },
  "language_info": {
   "codemirror_mode": {
    "name": "ipython",
    "version": 3
   },
   "file_extension": ".py",
   "mimetype": "text/x-python",
   "name": "python",
   "nbconvert_exporter": "python",
   "pygments_lexer": "ipython3",
   "version": "3.11.0"
  }
 },
 "nbformat": 4,
 "nbformat_minor": 5
}
