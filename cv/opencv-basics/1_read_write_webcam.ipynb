{
 "cells": [
  {
   "cell_type": "code",
   "execution_count": 1,
   "id": "56f3d95a",
   "metadata": {},
   "outputs": [],
   "source": [
    "import cv2"
   ]
  },
  {
   "cell_type": "markdown",
   "id": "eafe6063",
   "metadata": {},
   "source": [
    "# 1. Read Write Webcam"
   ]
  },
  {
   "cell_type": "markdown",
   "id": "87c9dcb7",
   "metadata": {},
   "source": [
    "### Read"
   ]
  },
  {
   "cell_type": "code",
   "execution_count": 6,
   "id": "befcf964",
   "metadata": {},
   "outputs": [
    {
     "data": {
      "text/plain": [
       "-1"
      ]
     },
     "execution_count": 6,
     "metadata": {},
     "output_type": "execute_result"
    }
   ],
   "source": [
    "img = cv2.imread(r\"resources\\lena.png\")\n",
    "\n",
    "cv2.imshow(\"Output\", img) # needs both\n",
    "cv2.waitKey(0)            # 0 means indefinite wait time , 1 means 1 millisecond"
   ]
  },
  {
   "cell_type": "markdown",
   "id": "4be80fe4",
   "metadata": {},
   "source": [
    "### Write"
   ]
  },
  {
   "cell_type": "code",
   "execution_count": null,
   "id": "4a40400a",
   "metadata": {},
   "outputs": [
    {
     "name": "stdout",
     "output_type": "stream",
     "text": [
      "End of video or failed to read frame.\n"
     ]
    }
   ],
   "source": [
    "cap = cv2.VideoCapture(r\"D:\\code\\cv-learning-projects\\basics\\resources\\test_video.mp4\") \n",
    "\n",
    "while True:\n",
    "    success, img = cap.read()   # success store a boolean value, img stores the frames\n",
    "\n",
    "    if not success:\n",
    "        print(\"End of video or failed to read frame.\")\n",
    "        break\n",
    "\n",
    "    cv2.imshow(\"Video\", img)\n",
    "\n",
    "    if cv2.waitKey(24) & 0xFF == ord('q'):     # 25 is smoother \n",
    "        break\n",
    "\n",
    "cap.release()                      # releases the video or webcam\n",
    "cv2.destroyAllWindows()            # close all gui related windows"
   ]
  },
  {
   "cell_type": "markdown",
   "id": "ee9d0797",
   "metadata": {},
   "source": [
    "### webcam"
   ]
  },
  {
   "cell_type": "code",
   "execution_count": null,
   "id": "68eaf79b",
   "metadata": {},
   "outputs": [],
   "source": [
    "frameWidth = 640\n",
    "frameHeight = 480\n",
    "\n",
    "cap = cv2.VideoCapture(0)\n",
    "\n",
    "cap.set(3, frameWidth)\n",
    "cap.set(4, frameHeight)\n",
    "cap.set(10, 150)             # for brightness\n",
    "\n",
    "while True:\n",
    "    success, img = cap.read()\n",
    "    cv2.imshow(\"Result\", img)\n",
    "    if cv2.waitKey(1) & 0xFF == ord('q'):\n",
    "        break\n",
    "\n",
    "cap.release()                     \n",
    "cv2.destroyAllWindows()       "
   ]
  }
 ],
 "metadata": {
  "kernelspec": {
   "display_name": "cvenv",
   "language": "python",
   "name": "python3"
  },
  "language_info": {
   "codemirror_mode": {
    "name": "ipython",
    "version": 3
   },
   "file_extension": ".py",
   "mimetype": "text/x-python",
   "name": "python",
   "nbconvert_exporter": "python",
   "pygments_lexer": "ipython3",
   "version": "3.11.0"
  }
 },
 "nbformat": 4,
 "nbformat_minor": 5
}
