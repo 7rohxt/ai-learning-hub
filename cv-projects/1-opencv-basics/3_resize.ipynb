{
 "cells": [
  {
   "cell_type": "code",
   "execution_count": 1,
   "id": "27637a80",
   "metadata": {},
   "outputs": [],
   "source": [
    "import cv2\n",
    "import numpy as np"
   ]
  },
  {
   "cell_type": "markdown",
   "id": "35b4993f",
   "metadata": {},
   "source": [
    "# Crop and Resize"
   ]
  },
  {
   "cell_type": "markdown",
   "id": "9b054cfd",
   "metadata": {},
   "source": [
    "Unlike regular y-axis,  \n",
    "in open-cv y-axis runs down"
   ]
  },
  {
   "cell_type": "code",
   "execution_count": null,
   "id": "5250f39a",
   "metadata": {},
   "outputs": [
    {
     "name": "stdout",
     "output_type": "stream",
     "text": [
      "(512, 512, 3)\n",
      "(500, 1000, 3)\n"
     ]
    },
    {
     "data": {
      "text/plain": [
       "-1"
      ]
     },
     "execution_count": 3,
     "metadata": {},
     "output_type": "execute_result"
    }
   ],
   "source": [
    "img = cv2.imread(\"resources/lena.png\")\n",
    "print(img.shape)\n",
    "\n",
    "imgResize = cv2.resize(img,(1000,500)) # width first height next\n",
    "print(imgResize.shape)\n",
    "\n",
    "imgCropped = img[46:119,352:495] # height first width next \n",
    "\n",
    "cv2.imshow(\"Image\",img)\n",
    "cv2.imshow(\"Image Resize\",imgResize)\n",
    "cv2.imshow(\"Image Cropped\",imgCropped)\n",
    "\n",
    "cv2.waitKey(0)"
   ]
  }
 ],
 "metadata": {
  "kernelspec": {
   "display_name": "cvenv",
   "language": "python",
   "name": "python3"
  },
  "language_info": {
   "codemirror_mode": {
    "name": "ipython",
    "version": 3
   },
   "file_extension": ".py",
   "mimetype": "text/x-python",
   "name": "python",
   "nbconvert_exporter": "python",
   "pygments_lexer": "ipython3",
   "version": "3.11.0"
  }
 },
 "nbformat": 4,
 "nbformat_minor": 5
}
